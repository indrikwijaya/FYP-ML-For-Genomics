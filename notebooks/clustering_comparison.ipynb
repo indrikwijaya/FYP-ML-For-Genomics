{
 "cells": [
  {
   "cell_type": "markdown",
   "metadata": {},
   "source": [
    "This notebook aims to evaluate different clustering algorithms with respect to STEM algorithm"
   ]
  },
  {
   "cell_type": "markdown",
   "metadata": {},
   "source": [
    "# Import necessary Modules"
   ]
  },
  {
   "cell_type": "code",
   "execution_count": 1,
   "metadata": {
    "collapsed": true
   },
   "outputs": [],
   "source": [
    "import pandas as pd\n",
    "import numpy as np\n",
    "import matplotlib.pyplot as plt\n",
    "import seaborn as sns\n",
    "from sklearn.cluster import KMeans, AgglomerativeClustering, spectral_clustering\n",
    "from sklearn.mixture import GMM\n",
    "from scipy.stats import pearsonr\n",
    "import scipy.cluster.hierarchy as hac\n",
    "from scipy.cluster.hierarchy import dendrogram\n",
    "\n",
    "\n"
   ]
  },
  {
   "cell_type": "markdown",
   "metadata": {},
   "source": [
    "# Load the different dataset tested\n",
    "1) STEM (clustering)\n",
    "2) Stirling (unclustered)"
   ]
  },
  {
   "cell_type": "code",
   "execution_count": 27,
   "metadata": {},
   "outputs": [
    {
     "data": {
      "text/html": [
       "<div>\n",
       "<style>\n",
       "    .dataframe thead tr:only-child th {\n",
       "        text-align: right;\n",
       "    }\n",
       "\n",
       "    .dataframe thead th {\n",
       "        text-align: left;\n",
       "    }\n",
       "\n",
       "    .dataframe tbody tr th {\n",
       "        vertical-align: top;\n",
       "    }\n",
       "</style>\n",
       "<table border=\"1\" class=\"dataframe\">\n",
       "  <thead>\n",
       "    <tr style=\"text-align: right;\">\n",
       "      <th></th>\n",
       "      <th>t0</th>\n",
       "      <th>t1</th>\n",
       "      <th>t2</th>\n",
       "      <th>t3</th>\n",
       "      <th>t4</th>\n",
       "      <th>t5</th>\n",
       "      <th>t6</th>\n",
       "    </tr>\n",
       "  </thead>\n",
       "  <tbody>\n",
       "    <tr>\n",
       "      <th>NM_175137</th>\n",
       "      <td>3.960592</td>\n",
       "      <td>4.095914</td>\n",
       "      <td>4.849770</td>\n",
       "      <td>4.658206</td>\n",
       "      <td>4.339691</td>\n",
       "      <td>4.389088</td>\n",
       "      <td>4.325856</td>\n",
       "    </tr>\n",
       "    <tr>\n",
       "      <th>NM_008044</th>\n",
       "      <td>4.315331</td>\n",
       "      <td>3.685871</td>\n",
       "      <td>4.328333</td>\n",
       "      <td>3.992102</td>\n",
       "      <td>3.750350</td>\n",
       "      <td>3.568070</td>\n",
       "      <td>3.450349</td>\n",
       "    </tr>\n",
       "    <tr>\n",
       "      <th>NM_207207</th>\n",
       "      <td>6.146943</td>\n",
       "      <td>6.772000</td>\n",
       "      <td>7.019586</td>\n",
       "      <td>6.848844</td>\n",
       "      <td>6.104179</td>\n",
       "      <td>5.471964</td>\n",
       "      <td>5.572717</td>\n",
       "    </tr>\n",
       "    <tr>\n",
       "      <th>NM_001013381</th>\n",
       "      <td>2.444733</td>\n",
       "      <td>2.903270</td>\n",
       "      <td>2.186983</td>\n",
       "      <td>1.701441</td>\n",
       "      <td>1.413871</td>\n",
       "      <td>2.650995</td>\n",
       "      <td>1.989258</td>\n",
       "    </tr>\n",
       "    <tr>\n",
       "      <th>NM_001013389</th>\n",
       "      <td>3.841136</td>\n",
       "      <td>4.752684</td>\n",
       "      <td>5.000866</td>\n",
       "      <td>4.826618</td>\n",
       "      <td>5.168860</td>\n",
       "      <td>4.903922</td>\n",
       "      <td>5.201029</td>\n",
       "    </tr>\n",
       "  </tbody>\n",
       "</table>\n",
       "</div>"
      ],
      "text/plain": [
       "                    t0        t1        t2        t3        t4        t5  \\\n",
       "NM_175137     3.960592  4.095914  4.849770  4.658206  4.339691  4.389088   \n",
       "NM_008044     4.315331  3.685871  4.328333  3.992102  3.750350  3.568070   \n",
       "NM_207207     6.146943  6.772000  7.019586  6.848844  6.104179  5.471964   \n",
       "NM_001013381  2.444733  2.903270  2.186983  1.701441  1.413871  2.650995   \n",
       "NM_001013389  3.841136  4.752684  5.000866  4.826618  5.168860  4.903922   \n",
       "\n",
       "                    t6  \n",
       "NM_175137     4.325856  \n",
       "NM_008044     3.450349  \n",
       "NM_207207     5.572717  \n",
       "NM_001013381  1.989258  \n",
       "NM_001013389  5.201029  "
      ]
     },
     "execution_count": 27,
     "metadata": {},
     "output_type": "execute_result"
    }
   ],
   "source": [
    "#stirling_df = pd.read_csv(\"/Users/indrikwijaya/Downloads/stirling_logdiff.txt\", sep = '\\t')\n",
    "stirling_df = pd.read_csv(\"/Users/indrikwijaya/Desktop/rna_tot_mito.txt\", sep = '\\t', index_col = 0)\n",
    "stirling_df.head()\n",
    "#stirling_df.describe()\n"
   ]
  },
  {
   "cell_type": "code",
   "execution_count": 4,
   "metadata": {
    "scrolled": true
   },
   "outputs": [
    {
     "data": {
      "text/html": [
       "<div>\n",
       "<style>\n",
       "    .dataframe thead tr:only-child th {\n",
       "        text-align: right;\n",
       "    }\n",
       "\n",
       "    .dataframe thead th {\n",
       "        text-align: left;\n",
       "    }\n",
       "\n",
       "    .dataframe tbody tr th {\n",
       "        vertical-align: top;\n",
       "    }\n",
       "</style>\n",
       "<table border=\"1\" class=\"dataframe\">\n",
       "  <thead>\n",
       "    <tr style=\"text-align: right;\">\n",
       "      <th></th>\n",
       "      <th>gene_id</th>\n",
       "      <th>Profile</th>\n",
       "      <th>time1</th>\n",
       "      <th>time2</th>\n",
       "      <th>time3</th>\n",
       "      <th>time4</th>\n",
       "      <th>time5</th>\n",
       "      <th>time6</th>\n",
       "      <th>time7</th>\n",
       "    </tr>\n",
       "  </thead>\n",
       "  <tbody>\n",
       "    <tr>\n",
       "      <th>0</th>\n",
       "      <td>Q0010</td>\n",
       "      <td>55</td>\n",
       "      <td>0</td>\n",
       "      <td>1.74</td>\n",
       "      <td>-0.50</td>\n",
       "      <td>-0.03</td>\n",
       "      <td>0.61</td>\n",
       "      <td>1.07</td>\n",
       "      <td>1.65</td>\n",
       "    </tr>\n",
       "    <tr>\n",
       "      <th>1</th>\n",
       "      <td>Q0017</td>\n",
       "      <td>56</td>\n",
       "      <td>0</td>\n",
       "      <td>1.30</td>\n",
       "      <td>0.24</td>\n",
       "      <td>-0.40</td>\n",
       "      <td>0.89</td>\n",
       "      <td>1.40</td>\n",
       "      <td>2.08</td>\n",
       "    </tr>\n",
       "    <tr>\n",
       "      <th>2</th>\n",
       "      <td>Q0032</td>\n",
       "      <td>48</td>\n",
       "      <td>0</td>\n",
       "      <td>0.62</td>\n",
       "      <td>0.43</td>\n",
       "      <td>0.98</td>\n",
       "      <td>0.54</td>\n",
       "      <td>1.19</td>\n",
       "      <td>1.94</td>\n",
       "    </tr>\n",
       "    <tr>\n",
       "      <th>3</th>\n",
       "      <td>Q0055</td>\n",
       "      <td>48</td>\n",
       "      <td>0</td>\n",
       "      <td>0.33</td>\n",
       "      <td>0.59</td>\n",
       "      <td>0.66</td>\n",
       "      <td>0.55</td>\n",
       "      <td>1.08</td>\n",
       "      <td>1.72</td>\n",
       "    </tr>\n",
       "    <tr>\n",
       "      <th>4</th>\n",
       "      <td>Q0065</td>\n",
       "      <td>48</td>\n",
       "      <td>0</td>\n",
       "      <td>0.35</td>\n",
       "      <td>0.46</td>\n",
       "      <td>0.44</td>\n",
       "      <td>0.57</td>\n",
       "      <td>1.02</td>\n",
       "      <td>1.59</td>\n",
       "    </tr>\n",
       "  </tbody>\n",
       "</table>\n",
       "</div>"
      ],
      "text/plain": [
       "  gene_id  Profile  time1  time2  time3  time4  time5  time6  time7\n",
       "0   Q0010       55      0   1.74  -0.50  -0.03   0.61   1.07   1.65\n",
       "1   Q0017       56      0   1.30   0.24  -0.40   0.89   1.40   2.08\n",
       "2   Q0032       48      0   0.62   0.43   0.98   0.54   1.19   1.94\n",
       "3   Q0055       48      0   0.33   0.59   0.66   0.55   1.08   1.72\n",
       "4   Q0065       48      0   0.35   0.46   0.44   0.57   1.02   1.59"
      ]
     },
     "execution_count": 4,
     "metadata": {},
     "output_type": "execute_result"
    }
   ],
   "source": [
    "stirling_stem = pd.read_csv(\"/Users/indrikwijaya/Downloads/stirling_stem_m60_c2.txt\", sep = '\\t')\n",
    "stirling_stem.head()"
   ]
  },
  {
   "cell_type": "markdown",
   "metadata": {},
   "source": [
    "# Filter Significant Clusters From STEM"
   ]
  },
  {
   "cell_type": "code",
   "execution_count": 70,
   "metadata": {
    "collapsed": true
   },
   "outputs": [],
   "source": [
    "rna_cru_stem = pd.read_csv('/Users/indrikwijaya/Desktop/stem_clusters/rna_cru_m100_c3.txt', sep = '\\t')\n",
    "def filter_significant_clusters_stem(stem_df_file, sig_profs):\n",
    "    stem_df = pd.read_csv(stem_df_file, sep = '\\t')\n",
    "    stem_df = stem_df.drop(['Selected', 'SPOT'], axis = 1)\n",
    "    stem_df = stem_df[stem_df['Profile'].isin(sig_profs)]\n",
    "    stem_df = stem_df.set_index('gene')\n",
    "    stem_df.index.name = None\n",
    "    sig_clust = []\n",
    "    for i in sig_profs:\n",
    "        cluster_i = stem_df[stem_df['Profile']==i]\n",
    "        cluster_i = cluster_i[['t0', 't1','t2','t3', 't4','t5', 't6']]\n",
    "        cluster_i.T.plot(legend = False, figsize=(15,7))\n",
    "        plt.title('Profile %d with %d genes' % (i,len(cluster_i)), fontsize= 20)\n",
    "        plt.xticks(fontsize =17)\n",
    "        plt.yticks(fontsize = 17)\n",
    "        #plt.show()\n",
    "        cluster_i_gene = cluster_i.axes[0].tolist()\n",
    "        sig_clust.append(cluster_i_gene)\n",
    "\n",
    "    true_cluster = []\n",
    "    for i in range(0,len(sig_clust)):\n",
    "        true_cluster.append([i,sig_clust[i]])\n",
    "    datasize = sum(len(cluster) for cluster in sig_clust)\n",
    "    return true_cluster, datasize\n"
   ]
  },
  {
   "cell_type": "code",
   "execution_count": 114,
   "metadata": {},
   "outputs": [
    {
     "name": "stderr",
     "output_type": "stream",
     "text": [
      "/Users/indrikwijaya/anaconda3/lib/python3.6/site-packages/matplotlib/pyplot.py:524: RuntimeWarning: More than 20 figures have been opened. Figures created through the pyplot interface (`matplotlib.pyplot.figure`) are retained until explicitly closed and may consume too much memory. (To control this warning, see the rcParam `figure.max_open_warning`).\n",
      "  max_open_warning, RuntimeWarning)\n"
     ]
    }
   ],
   "source": [
    "sig_profs = [74,69,80,70,25,37,98,79,71,13]\n",
    "rna_tot_mito_sig,datasize=filter_significant_clusters_stem('/Users/indrikwijaya/Desktop/stem_clusters/rna_tot_mito_m100_c3.txt',sig_profs)"
   ]
  },
  {
   "cell_type": "code",
   "execution_count": null,
   "metadata": {},
   "outputs": [],
   "source": [
    "#stirling_stem = pd.read_csv(\"/Users/indrikwijaya/Downloads/stirling_stem_m60_c2.txt\", sep = '\\t')\n",
    "stirling_stem = pd.read_csv(\"/Users/indrikwijaya/Desktop/stem_clusters/\")\n",
    "significant = [15,11,53,10,37,40,54,49,48,16,52,44,9,21,38,4,5,33]\n",
    "stirling_stem_significant = stirling_stem[stirling_stem['Profile'].isin(significant)]\n",
    "significant_clusters = []\n",
    "for i in significant:\n",
    "    cluster_i = stirling_stem_significant[stirling_stem_significant['Profile']==i]\n",
    "    cluster_i = cluster_i.set_index('gene_id')\n",
    "    cluster_i.index.name = None\n",
    "    cluster_i = cluster_i[['time1','time2', 'time3', 'time4', 'time5', 'time6', 'time7']]\n",
    "#     cluster_i.T.plot(legend = False, figsize=(20,10))\n",
    "#     plt.title ('%d genes' % len(cluster_i), fontsize = 45)\n",
    "#     plt.xticks(fontsize=35)\n",
    "#     plt.yticks(fontsize=35)\n",
    "    #plt.savefig('/Users/indrikwijaya/Desktop/stirling_stem_significant/Cluster_%d_%d.png' % (i,len(cluster_i)))\n",
    "    #plt.show()\n",
    "    \n",
    "    cluster_i_gene = list(cluster_i.iloc[:,0])\n",
    "    significant_clusters.append(cluster_i_gene)\n",
    "\n",
    "#print(significant_clusters[0])\n",
    "datasize = sum(len(cluster) for cluster in significant_clusters)\n",
    "datasize"
   ]
  },
  {
   "cell_type": "code",
   "execution_count": 8,
   "metadata": {
    "collapsed": true
   },
   "outputs": [],
   "source": [
    "true_cluster = []\n",
    "for i in range(0,len(significant_clusters)):\n",
    "    true_cluster.append([i,significant_clusters[i]])\n",
    "#true_cluster\n",
    "        \n"
   ]
  },
  {
   "cell_type": "markdown",
   "metadata": {},
   "source": [
    "# K-means Clustering"
   ]
  },
  {
   "cell_type": "code",
   "execution_count": 90,
   "metadata": {},
   "outputs": [],
   "source": [
    "kmeans = KMeans(n_clusters = 10, random_state=1).fit(stirling_df.values)\n",
    "kmeans_labels = kmeans.predict(stirling_df.values)\n",
    "\n",
    "s = pd.Series(kmeans_labels)\n",
    "clusters = s.unique()\n",
    "kmeans_cluster = []\n",
    "for i in range(0, len(clusters)):\n",
    "    cluster_indices = s[s==clusters[i]].index\n",
    "    #print(\"Cluster %d number of entries %d\" % (c, len(cluster_indices)))\n",
    "    \n",
    "    gene_cluster = stirling_df.T.iloc[:,cluster_indices].transpose().index\n",
    "    kmeans_cluster.append([i, list(gene_cluster)])\n",
    "    \n",
    "#     stirling_df.T.iloc[:, cluster_indices].plot(legend = False, figsize=(20,10))\n",
    "#     plt.title('%d genes' % len(gene_cluster), fontsize = 45)\n",
    "#     plt.xticks(fontsize=35)\n",
    "#     plt.yticks(fontsize = 35)\n",
    "    #plt.savefig(\"/Users/indrikwijaya/Desktop/kmeans_cluster_18/Cluster_%d_%d\" % (clusters[i], len(gene_cluster)))\n",
    "    #plt.show()\n"
   ]
  },
  {
   "cell_type": "markdown",
   "metadata": {},
   "source": [
    "# GMM Clustering"
   ]
  },
  {
   "cell_type": "code",
   "execution_count": 73,
   "metadata": {},
   "outputs": [
    {
     "name": "stderr",
     "output_type": "stream",
     "text": [
      "/Users/indrikwijaya/anaconda3/lib/python3.6/site-packages/sklearn/utils/deprecation.py:52: DeprecationWarning: Class GMM is deprecated; The class GMM is deprecated in 0.18 and will be  removed in 0.20. Use class GaussianMixture instead.\n",
      "  warnings.warn(msg, category=DeprecationWarning)\n",
      "/Users/indrikwijaya/anaconda3/lib/python3.6/site-packages/sklearn/utils/deprecation.py:70: DeprecationWarning: Function distribute_covar_matrix_to_match_covariance_type is deprecated; The functon distribute_covar_matrix_to_match_covariance_typeis deprecated in 0.18 and will be removed in 0.20.\n",
      "  warnings.warn(msg, category=DeprecationWarning)\n",
      "/Users/indrikwijaya/anaconda3/lib/python3.6/site-packages/sklearn/utils/deprecation.py:70: DeprecationWarning: Function log_multivariate_normal_density is deprecated; The function log_multivariate_normal_density is deprecated in 0.18 and will be removed in 0.20.\n",
      "  warnings.warn(msg, category=DeprecationWarning)\n",
      "/Users/indrikwijaya/anaconda3/lib/python3.6/site-packages/sklearn/utils/deprecation.py:70: DeprecationWarning: Function log_multivariate_normal_density is deprecated; The function log_multivariate_normal_density is deprecated in 0.18 and will be removed in 0.20.\n",
      "  warnings.warn(msg, category=DeprecationWarning)\n",
      "/Users/indrikwijaya/anaconda3/lib/python3.6/site-packages/sklearn/utils/deprecation.py:70: DeprecationWarning: Function log_multivariate_normal_density is deprecated; The function log_multivariate_normal_density is deprecated in 0.18 and will be removed in 0.20.\n",
      "  warnings.warn(msg, category=DeprecationWarning)\n",
      "/Users/indrikwijaya/anaconda3/lib/python3.6/site-packages/sklearn/utils/deprecation.py:70: DeprecationWarning: Function log_multivariate_normal_density is deprecated; The function log_multivariate_normal_density is deprecated in 0.18 and will be removed in 0.20.\n",
      "  warnings.warn(msg, category=DeprecationWarning)\n",
      "/Users/indrikwijaya/anaconda3/lib/python3.6/site-packages/sklearn/utils/deprecation.py:70: DeprecationWarning: Function log_multivariate_normal_density is deprecated; The function log_multivariate_normal_density is deprecated in 0.18 and will be removed in 0.20.\n",
      "  warnings.warn(msg, category=DeprecationWarning)\n",
      "/Users/indrikwijaya/anaconda3/lib/python3.6/site-packages/sklearn/utils/deprecation.py:70: DeprecationWarning: Function log_multivariate_normal_density is deprecated; The function log_multivariate_normal_density is deprecated in 0.18 and will be removed in 0.20.\n",
      "  warnings.warn(msg, category=DeprecationWarning)\n",
      "/Users/indrikwijaya/anaconda3/lib/python3.6/site-packages/sklearn/utils/deprecation.py:70: DeprecationWarning: Function log_multivariate_normal_density is deprecated; The function log_multivariate_normal_density is deprecated in 0.18 and will be removed in 0.20.\n",
      "  warnings.warn(msg, category=DeprecationWarning)\n",
      "/Users/indrikwijaya/anaconda3/lib/python3.6/site-packages/sklearn/utils/deprecation.py:70: DeprecationWarning: Function log_multivariate_normal_density is deprecated; The function log_multivariate_normal_density is deprecated in 0.18 and will be removed in 0.20.\n",
      "  warnings.warn(msg, category=DeprecationWarning)\n",
      "/Users/indrikwijaya/anaconda3/lib/python3.6/site-packages/sklearn/utils/deprecation.py:70: DeprecationWarning: Function log_multivariate_normal_density is deprecated; The function log_multivariate_normal_density is deprecated in 0.18 and will be removed in 0.20.\n",
      "  warnings.warn(msg, category=DeprecationWarning)\n",
      "/Users/indrikwijaya/anaconda3/lib/python3.6/site-packages/sklearn/utils/deprecation.py:70: DeprecationWarning: Function log_multivariate_normal_density is deprecated; The function log_multivariate_normal_density is deprecated in 0.18 and will be removed in 0.20.\n",
      "  warnings.warn(msg, category=DeprecationWarning)\n",
      "/Users/indrikwijaya/anaconda3/lib/python3.6/site-packages/sklearn/utils/deprecation.py:70: DeprecationWarning: Function log_multivariate_normal_density is deprecated; The function log_multivariate_normal_density is deprecated in 0.18 and will be removed in 0.20.\n",
      "  warnings.warn(msg, category=DeprecationWarning)\n",
      "/Users/indrikwijaya/anaconda3/lib/python3.6/site-packages/sklearn/utils/deprecation.py:70: DeprecationWarning: Function log_multivariate_normal_density is deprecated; The function log_multivariate_normal_density is deprecated in 0.18 and will be removed in 0.20.\n",
      "  warnings.warn(msg, category=DeprecationWarning)\n",
      "/Users/indrikwijaya/anaconda3/lib/python3.6/site-packages/sklearn/utils/deprecation.py:70: DeprecationWarning: Function log_multivariate_normal_density is deprecated; The function log_multivariate_normal_density is deprecated in 0.18 and will be removed in 0.20.\n",
      "  warnings.warn(msg, category=DeprecationWarning)\n",
      "/Users/indrikwijaya/anaconda3/lib/python3.6/site-packages/sklearn/utils/deprecation.py:70: DeprecationWarning: Function log_multivariate_normal_density is deprecated; The function log_multivariate_normal_density is deprecated in 0.18 and will be removed in 0.20.\n",
      "  warnings.warn(msg, category=DeprecationWarning)\n",
      "/Users/indrikwijaya/anaconda3/lib/python3.6/site-packages/sklearn/utils/deprecation.py:70: DeprecationWarning: Function log_multivariate_normal_density is deprecated; The function log_multivariate_normal_density is deprecated in 0.18 and will be removed in 0.20.\n",
      "  warnings.warn(msg, category=DeprecationWarning)\n",
      "/Users/indrikwijaya/anaconda3/lib/python3.6/site-packages/sklearn/utils/deprecation.py:70: DeprecationWarning: Function log_multivariate_normal_density is deprecated; The function log_multivariate_normal_density is deprecated in 0.18 and will be removed in 0.20.\n",
      "  warnings.warn(msg, category=DeprecationWarning)\n",
      "/Users/indrikwijaya/anaconda3/lib/python3.6/site-packages/sklearn/utils/deprecation.py:70: DeprecationWarning: Function log_multivariate_normal_density is deprecated; The function log_multivariate_normal_density is deprecated in 0.18 and will be removed in 0.20.\n",
      "  warnings.warn(msg, category=DeprecationWarning)\n",
      "/Users/indrikwijaya/anaconda3/lib/python3.6/site-packages/sklearn/utils/deprecation.py:70: DeprecationWarning: Function log_multivariate_normal_density is deprecated; The function log_multivariate_normal_density is deprecated in 0.18 and will be removed in 0.20.\n",
      "  warnings.warn(msg, category=DeprecationWarning)\n",
      "/Users/indrikwijaya/anaconda3/lib/python3.6/site-packages/sklearn/utils/deprecation.py:70: DeprecationWarning: Function log_multivariate_normal_density is deprecated; The function log_multivariate_normal_density is deprecated in 0.18 and will be removed in 0.20.\n",
      "  warnings.warn(msg, category=DeprecationWarning)\n",
      "/Users/indrikwijaya/anaconda3/lib/python3.6/site-packages/sklearn/utils/deprecation.py:70: DeprecationWarning: Function log_multivariate_normal_density is deprecated; The function log_multivariate_normal_density is deprecated in 0.18 and will be removed in 0.20.\n",
      "  warnings.warn(msg, category=DeprecationWarning)\n",
      "/Users/indrikwijaya/anaconda3/lib/python3.6/site-packages/sklearn/utils/deprecation.py:70: DeprecationWarning: Function log_multivariate_normal_density is deprecated; The function log_multivariate_normal_density is deprecated in 0.18 and will be removed in 0.20.\n",
      "  warnings.warn(msg, category=DeprecationWarning)\n",
      "/Users/indrikwijaya/anaconda3/lib/python3.6/site-packages/sklearn/utils/deprecation.py:70: DeprecationWarning: Function log_multivariate_normal_density is deprecated; The function log_multivariate_normal_density is deprecated in 0.18 and will be removed in 0.20.\n",
      "  warnings.warn(msg, category=DeprecationWarning)\n",
      "/Users/indrikwijaya/anaconda3/lib/python3.6/site-packages/sklearn/utils/deprecation.py:70: DeprecationWarning: Function log_multivariate_normal_density is deprecated; The function log_multivariate_normal_density is deprecated in 0.18 and will be removed in 0.20.\n",
      "  warnings.warn(msg, category=DeprecationWarning)\n",
      "/Users/indrikwijaya/anaconda3/lib/python3.6/site-packages/sklearn/utils/deprecation.py:70: DeprecationWarning: Function log_multivariate_normal_density is deprecated; The function log_multivariate_normal_density is deprecated in 0.18 and will be removed in 0.20.\n",
      "  warnings.warn(msg, category=DeprecationWarning)\n",
      "/Users/indrikwijaya/anaconda3/lib/python3.6/site-packages/sklearn/utils/deprecation.py:70: DeprecationWarning: Function log_multivariate_normal_density is deprecated; The function log_multivariate_normal_density is deprecated in 0.18 and will be removed in 0.20.\n",
      "  warnings.warn(msg, category=DeprecationWarning)\n",
      "/Users/indrikwijaya/anaconda3/lib/python3.6/site-packages/sklearn/utils/deprecation.py:70: DeprecationWarning: Function log_multivariate_normal_density is deprecated; The function log_multivariate_normal_density is deprecated in 0.18 and will be removed in 0.20.\n",
      "  warnings.warn(msg, category=DeprecationWarning)\n",
      "/Users/indrikwijaya/anaconda3/lib/python3.6/site-packages/sklearn/utils/deprecation.py:70: DeprecationWarning: Function log_multivariate_normal_density is deprecated; The function log_multivariate_normal_density is deprecated in 0.18 and will be removed in 0.20.\n",
      "  warnings.warn(msg, category=DeprecationWarning)\n",
      "/Users/indrikwijaya/anaconda3/lib/python3.6/site-packages/sklearn/utils/deprecation.py:70: DeprecationWarning: Function log_multivariate_normal_density is deprecated; The function log_multivariate_normal_density is deprecated in 0.18 and will be removed in 0.20.\n",
      "  warnings.warn(msg, category=DeprecationWarning)\n",
      "/Users/indrikwijaya/anaconda3/lib/python3.6/site-packages/sklearn/utils/deprecation.py:70: DeprecationWarning: Function log_multivariate_normal_density is deprecated; The function log_multivariate_normal_density is deprecated in 0.18 and will be removed in 0.20.\n",
      "  warnings.warn(msg, category=DeprecationWarning)\n",
      "/Users/indrikwijaya/anaconda3/lib/python3.6/site-packages/sklearn/utils/deprecation.py:70: DeprecationWarning: Function log_multivariate_normal_density is deprecated; The function log_multivariate_normal_density is deprecated in 0.18 and will be removed in 0.20.\n",
      "  warnings.warn(msg, category=DeprecationWarning)\n",
      "/Users/indrikwijaya/anaconda3/lib/python3.6/site-packages/sklearn/utils/deprecation.py:70: DeprecationWarning: Function log_multivariate_normal_density is deprecated; The function log_multivariate_normal_density is deprecated in 0.18 and will be removed in 0.20.\n",
      "  warnings.warn(msg, category=DeprecationWarning)\n",
      "/Users/indrikwijaya/anaconda3/lib/python3.6/site-packages/sklearn/utils/deprecation.py:70: DeprecationWarning: Function log_multivariate_normal_density is deprecated; The function log_multivariate_normal_density is deprecated in 0.18 and will be removed in 0.20.\n",
      "  warnings.warn(msg, category=DeprecationWarning)\n",
      "/Users/indrikwijaya/anaconda3/lib/python3.6/site-packages/sklearn/utils/deprecation.py:70: DeprecationWarning: Function log_multivariate_normal_density is deprecated; The function log_multivariate_normal_density is deprecated in 0.18 and will be removed in 0.20.\n",
      "  warnings.warn(msg, category=DeprecationWarning)\n"
     ]
    }
   ],
   "source": [
    "gmm = GMM(n_components = 10,covariance_type = 'full').fit(stirling_df.values)\n",
    "gmm_labels = gmm.predict(stirling_df.values)\n",
    "\n",
    "s = pd.Series(gmm_labels)\n",
    "clusters = s.unique()\n",
    "gmm_cluster = []\n",
    "for i in range(0, len(clusters)):\n",
    "    cluster_indices = s[s==clusters[i]].index\n",
    "    #print(\"Cluster %d number of entries %d\" % (c, len(cluster_indices)))\n",
    "    gene_cluster = stirling_df.T.iloc[:,cluster_indices].transpose().index\n",
    "    gmm_cluster.append([i, list(gene_cluster)])\n",
    "    \n",
    "#     stirling_df.T.iloc[:, cluster_indices].plot(legend = False, figsize=(20,10))\n",
    "#     plt.title('%d genes' % len(gene_cluster), fontsize = 45)\n",
    "#     plt.xticks(fontsize=35)\n",
    "#     plt.yticks(fontsize = 35)\n",
    "    #plt.savefig(\"/Users/indrikwijaya/Desktop/gmm_cluster_bic_plots_18/Cluster_%d_%d\" % (clusters[i], len(gene_cluster)))\n",
    "    #plt.show()\n"
   ]
  },
  {
   "cell_type": "markdown",
   "metadata": {},
   "source": [
    "# Hierachical Clustering"
   ]
  },
  {
   "cell_type": "code",
   "execution_count": 74,
   "metadata": {
    "collapsed": true
   },
   "outputs": [],
   "source": [
    "def pearson_affinity(M):\n",
    "   return 1 - np.array([[pearsonr(a,b)[0] for a in M] for b in M])\n"
   ]
  },
  {
   "cell_type": "code",
   "execution_count": 75,
   "metadata": {},
   "outputs": [
    {
     "ename": "NameError",
     "evalue": "name 'stirling_hac_ward' is not defined",
     "output_type": "error",
     "traceback": [
      "\u001b[0;31m---------------------------------------------------------------------------\u001b[0m",
      "\u001b[0;31mNameError\u001b[0m                                 Traceback (most recent call last)",
      "\u001b[0;32m<ipython-input-75-d560345ed70f>\u001b[0m in \u001b[0;36m<module>\u001b[0;34m()\u001b[0m\n\u001b[1;32m      3\u001b[0m                                       \u001b[0mlinkage\u001b[0m \u001b[0;34m=\u001b[0m \u001b[0;34m'ward'\u001b[0m\u001b[0;34m,\u001b[0m\u001b[0;34m\u001b[0m\u001b[0m\n\u001b[1;32m      4\u001b[0m                                       affinity = 'euclidean')\n\u001b[0;32m----> 5\u001b[0;31m \u001b[0mhac_ward\u001b[0m \u001b[0;34m=\u001b[0m \u001b[0mstirling_hac_ward\u001b[0m\u001b[0;34m.\u001b[0m\u001b[0mfit\u001b[0m\u001b[0;34m(\u001b[0m\u001b[0mstirling_df\u001b[0m\u001b[0;34m.\u001b[0m\u001b[0mvalues\u001b[0m\u001b[0;34m)\u001b[0m\u001b[0;34m\u001b[0m\u001b[0m\n\u001b[0m\u001b[1;32m      6\u001b[0m \u001b[0;34m\u001b[0m\u001b[0m\n\u001b[1;32m      7\u001b[0m \u001b[0ms\u001b[0m \u001b[0;34m=\u001b[0m \u001b[0mpd\u001b[0m\u001b[0;34m.\u001b[0m\u001b[0mSeries\u001b[0m\u001b[0;34m(\u001b[0m\u001b[0mhac_ward\u001b[0m\u001b[0;34m.\u001b[0m\u001b[0mlabels_\u001b[0m\u001b[0;34m)\u001b[0m\u001b[0;34m\u001b[0m\u001b[0m\n",
      "\u001b[0;31mNameError\u001b[0m: name 'stirling_hac_ward' is not defined"
     ]
    }
   ],
   "source": [
    "#Fit into ward hierarchical clustering\n",
    "hac_ward = AgglomerativeClustering(n_clusters=10, \n",
    "                                      linkage = 'ward',\n",
    "                                      affinity = 'euclidean')\n",
    "hac_ward = hac_ward.fit(stirling_df.values)\n",
    "\n",
    "s = pd.Series(hac_ward.labels_)\n",
    "clusters = s.unique()\n",
    "hac_ward_cluster = []\n",
    "for c in clusters:\n",
    "    cluster_indices = s[s==c].index\n",
    "    #print(\"Cluster %d number of entries %d\" % (c, len(cluster_indices)))\n",
    "    stirling_df.T.iloc[:, cluster_indices].plot(legend = False)\n",
    "    gene_cluster = stirling_df.T.iloc[:,cluster_indices].transpose().index\n",
    "    hac_ward_cluster.append([c, list(gene_cluster)])"
   ]
  },
  {
   "cell_type": "code",
   "execution_count": 14,
   "metadata": {},
   "outputs": [
    {
     "name": "stderr",
     "output_type": "stream",
     "text": [
      "/Users/indrikwijaya/anaconda3/lib/python3.6/site-packages/matplotlib/pyplot.py:524: RuntimeWarning: More than 20 figures have been opened. Figures created through the pyplot interface (`matplotlib.pyplot.figure`) are retained until explicitly closed and may consume too much memory. (To control this warning, see the rcParam `figure.max_open_warning`).\n",
      "  max_open_warning, RuntimeWarning)\n"
     ]
    }
   ],
   "source": [
    "#Plot the different clusters\n",
    "for i in range(0, len(clusters)):\n",
    "    cluster_indices = s[s==clusters[i]].index\n",
    "    #print(\"Cluster %d number of entries %d\" % (c, len(cluster_indices)))\n",
    "    \n",
    "    stirling_df.T.iloc[:, cluster_indices].plot(legend = False, figsize=(20,10))\n",
    "    plt.title('%d genes' % len(gene_cluster), fontsize = 45)\n",
    "    plt.xticks(fontsize=35)\n",
    "    plt.yticks(fontsize = 35)\n",
    "    #plt.savefig(\"/Users/indrikwijaya/Desktop/hac_ward_18/Cluster_%d_%d\" % (clusters[i], len(gene_cluster)))\n",
    "    #plt.show()"
   ]
  },
  {
   "cell_type": "code",
   "execution_count": null,
   "metadata": {
    "collapsed": true
   },
   "outputs": [],
   "source": [
    "#Fit into complete hierarchical clustering\n",
    "hac_complete = AgglomerativeClustering(n_clusters=10, \n",
    "                                      linkage = 'complete',\n",
    "                                      affinity = pearson_affinity)\n",
    "hac_complete = hac_complete.fit(stirling_df.values)\n",
    "\n",
    "s = pd.Series(hac_complete.labels_)\n",
    "clusters = s.unique()\n",
    "hac_complete_cluster = []\n",
    "for c in clusters:\n",
    "    cluster_indices = s[s==c].index\n",
    "    #print(\"Cluster %d number of entries %d\" % (c, len(cluster_indices)))\n",
    "    #stirling_df.T.iloc[:, cluster_indices].plot(legend = False)\n",
    "    gene_cluster = stirling_df.T.iloc[:,cluster_indices].transpose().index\n",
    "    hac_complete_cluster.append([c, list(gene_cluster)])"
   ]
  },
  {
   "cell_type": "code",
   "execution_count": null,
   "metadata": {
    "collapsed": true
   },
   "outputs": [],
   "source": [
    "#Plot the different clusters\n",
    "for i in range(0, len(clusters)):\n",
    "    cluster_indices = s[s==clusters[i]].index\n",
    "    #print(\"Cluster %d number of entries %d\" % (c, len(cluster_indices)))\n",
    "    gene_cluster = stirling_df.T.iloc[:,cluster_indices].transpose().index\n",
    "    hac_complete_cluster.append([i, list(gene_cluster)])\n",
    "    \n",
    "    stirling_df.T.iloc[:, cluster_indices].plot(legend = False, figsize=(20,10))\n",
    "    \n",
    "    plt.title('%d genes' % len(gene_cluster), fontsize = 45)\n",
    "    plt.xticks(fontsize=35)\n",
    "    plt.yticks(fontsize = 35)\n",
    "    #plt.savefig(\"/Users/indrikwijaya/Desktop/hac_complete_18/Cluster_%d_%d\" % (clusters[i], len(gene_cluster)))\n",
    "    #plt.show()"
   ]
  },
  {
   "cell_type": "code",
   "execution_count": 76,
   "metadata": {},
   "outputs": [],
   "source": [
    "#Fit into average hierarchical clustering\n",
    "hac_avg = AgglomerativeClustering(n_clusters=10, \n",
    "                                      linkage = 'average',\n",
    "                                      affinity = pearson_affinity)\n",
    "hac_avg = hac_avg.fit(stirling_df.values)\n",
    "\n",
    "s = pd.Series(hac_avg.labels_)\n",
    "clusters = s.unique()\n",
    "hac_avg_cluster = []\n",
    "for c in clusters:\n",
    "    cluster_indices = s[s==c].index\n",
    "    #print(\"Cluster %d number of entries %d\" % (c, len(cluster_indices)))\n",
    "    stirling_df.T.iloc[:, cluster_indices].plot(legend = False)\n",
    "    gene_cluster = stirling_df.T.iloc[:,cluster_indices].transpose().index\n",
    "    hac_avg_cluster.append([c, list(gene_cluster)])"
   ]
  },
  {
   "cell_type": "code",
   "execution_count": 190,
   "metadata": {},
   "outputs": [
    {
     "name": "stderr",
     "output_type": "stream",
     "text": [
      "/Users/indrikwijaya/anaconda3/lib/python3.6/site-packages/matplotlib/pyplot.py:524: RuntimeWarning: More than 20 figures have been opened. Figures created through the pyplot interface (`matplotlib.pyplot.figure`) are retained until explicitly closed and may consume too much memory. (To control this warning, see the rcParam `figure.max_open_warning`).\n",
      "  max_open_warning, RuntimeWarning)\n"
     ]
    }
   ],
   "source": [
    "#Plot the different clusters\n",
    "for i in range(0, len(clusters)):\n",
    "    cluster_indices = s[s==clusters[i]].index\n",
    "    #print(\"Cluster %d number of entries %d\" % (c, len(cluster_indices)))\n",
    "    gene_cluster = stirling_df.T.iloc[:,cluster_indices].transpose().index\n",
    "    hac_avg_cluster.append([i, list(gene_cluster)])\n",
    "    stirling_df.T.iloc[:, cluster_indices].plot(legend = False, figsize=(20,10))\n",
    "    plt.title('%d genes' % len(gene_cluster), fontsize = 45)\n",
    "    plt.xticks(fontsize=35)\n",
    "    plt.yticks(fontsize = 35)\n",
    "    #plt.savefig(\"/Users/indrikwijaya/Desktop/hac_avg_18/Cluster_%d_%d\" % (clusters[i], len(gene_cluster)))\n",
    "    #plt.show()"
   ]
  },
  {
   "cell_type": "markdown",
   "metadata": {},
   "source": [
    "# Plot Dendrograms"
   ]
  },
  {
   "cell_type": "code",
   "execution_count": 15,
   "metadata": {
    "collapsed": true
   },
   "outputs": [],
   "source": [
    "title_size = 85\n",
    "figsize =(85,65)\n",
    "xlabel_size = 85\n",
    "ylabel_size = 85\n",
    "xticks_size = 85\n",
    "yticks_size = 85\n",
    "def fancy_dendrogram(model,*args, **kwargs):\n",
    "    max_d = kwargs.pop('max_d', None)\n",
    "    if max_d and 'color_threshold' not in kwargs:\n",
    "        kwargs['color_threshold'] = max_d\n",
    "    annotate_above = kwargs.pop('annotate_above', 0)\n",
    "    \n",
    "    \n",
    "    #children of hierarchical clustering\n",
    "    children = model.children_\n",
    "    \n",
    "    #distances btw each pair of children\n",
    "    #since we don't have this information, we can use a uniform one for plotting\n",
    "    distance = np.arange(children.shape[0])\n",
    "    \n",
    "    #The no of observations contained in each cluster level\n",
    "    no_of_observations = np.arange(2, children.shape[0]+2)\n",
    "    \n",
    "    #create linkage matrix and then plot the dendrogram\n",
    "    linkage_matrix = np.column_stack([children, distance, no_of_observations]).astype(float)\n",
    "    ddata = hac.dendrogram(linkage_matrix,*args, **kwargs)\n",
    "\n",
    "    if not kwargs.get('no_plot', False):\n",
    "        plt.title('Hierarchical Clustering Dendrogram', fontsize= title_size)\n",
    "        plt.xlabel('sample index or (cluster size)', fontsize = xlabel_size)\n",
    "        plt.ylabel('distance', fontsize = ylabel_size)\n",
    "        plt.xticks(fontsize=xticks_size, rotation =90)\n",
    "        plt.yticks(fontsize=yticks_size, rotation =90)\n",
    "        for i, d, c in zip(ddata['icoord'], ddata['dcoord'], ddata['color_list']):\n",
    "            x = 0.5 * sum(i[1:3])\n",
    "            y = d[1]\n",
    "            if y > annotate_above:\n",
    "                plt.plot(x, y, 'o', c=c)\n",
    "                plt.annotate(\"%.3g\" % y, (x, y), xytext=(0, -5),\n",
    "                             textcoords='offset points',\n",
    "                             va='top', ha='center')\n",
    "        if max_d:\n",
    "            plt.axhline(y=max_d, c='k')\n",
    "    return ddata\n",
    "    \n"
   ]
  },
  {
   "cell_type": "code",
   "execution_count": 39,
   "metadata": {},
   "outputs": [
    {
     "name": "stderr",
     "output_type": "stream",
     "text": [
      "IOPub data rate exceeded.\n",
      "The notebook server will temporarily stop sending output\n",
      "to the client in order to avoid crashing it.\n",
      "To change this limit, set the config variable\n",
      "`--NotebookApp.iopub_data_rate_limit`.\n"
     ]
    }
   ],
   "source": [
    "Z = stirling_hac_complete\n",
    "plt.figure(figsize=figsize)\n",
    "plt.title(\"hierarchical clustering dendogram\")\n",
    "plt.xlabel('sample index', fontsize = xlabel_size)\n",
    "plt.ylabel('distance', fontsize = ylabel_size)\n",
    "plt.yticks(fontsize = yticks_size, rotation = 90)\n",
    "fancy_dendrogram(\n",
    "    Z,\n",
    "    leaf_rotation = 90., #rotate the x axis labels\n",
    "    leaf_font_size= 45., #font size for the x axis labels\n",
    "    max_d = 0.02\n",
    ")\n",
    "plt.show()"
   ]
  },
  {
   "cell_type": "code",
   "execution_count": 38,
   "metadata": {},
   "outputs": [
    {
     "name": "stderr",
     "output_type": "stream",
     "text": [
      "IOPub data rate exceeded.\n",
      "The notebook server will temporarily stop sending output\n",
      "to the client in order to avoid crashing it.\n",
      "To change this limit, set the config variable\n",
      "`--NotebookApp.iopub_data_rate_limit`.\n"
     ]
    }
   ],
   "source": [
    "Z = stirling_hac_avg\n",
    "plt.figure(figsize=figsize)\n",
    "plt.title(\"hierarchical clustering dendogram\")\n",
    "plt.xlabel('sample index', fontsize = xlabel_size)\n",
    "plt.ylabel('distance', fontsize = ylabel_size)\n",
    "plt.yticks(fontsize = yticks_size, rotation = 90)\n",
    "fancy_dendrogram(\n",
    "    Z,\n",
    "    leaf_rotation = 90., #rotate the x axis labels\n",
    "    leaf_font_size= 45., #font size for the x axis labels\n",
    "    max_d = 0.02\n",
    ")\n",
    "plt.show()"
   ]
  },
  {
   "cell_type": "markdown",
   "metadata": {},
   "source": [
    "# Compare the performances of different clustering algorithm vs STEM"
   ]
  },
  {
   "cell_type": "code",
   "execution_count": 14,
   "metadata": {
    "collapsed": true
   },
   "outputs": [],
   "source": [
    "datasize = sum(len(cluster) for cluster in significant_clusters)\n",
    "\n",
    "\n",
    "def factorial(n):\n",
    "    if n == 1:\n",
    "        return 1\n",
    "    else:\n",
    "        return n*factorial(n-1)\n",
    "    \n",
    "def intersect(a,b):\n",
    "    return list(set(a)&set(b))\n",
    "\n",
    "def label_to_true(true_cluster,test_cluster):\n",
    "    for i in range(0, len(test_cluster)):\n",
    "        max_label = 0\n",
    "        for j in range(0, len(true_cluster)):\n",
    "            max_intersect = len(intersect(test_cluster[i][1],true_cluster[j][1]))\n",
    "            if len(intersect(test_cluster[i][1],true_cluster[j][1]))>max_label:\n",
    "                max_label = max_intersect\n",
    "                test_cluster[i][0] = true_cluster[j][0]\n",
    "    return test_cluster\n",
    "\n",
    "                   \n",
    "def clustering_accuracy(true_cluster, test_cluster):\n",
    "    count = 0\n",
    "    for i in test_cluster:\n",
    "        for j in true_cluster:\n",
    "            if i[0] == j[0]:\n",
    "                count += len(intersect(i[1],j[1]))\n",
    "                #print(count)\n",
    "    return count/datasize"
   ]
  },
  {
   "cell_type": "code",
   "execution_count": 69,
   "metadata": {},
   "outputs": [
    {
     "data": {
      "text/plain": [
       "0.36890243902439024"
      ]
     },
     "execution_count": 69,
     "metadata": {},
     "output_type": "execute_result"
    }
   ],
   "source": [
    "clustering_accuracy(rna_tot_sig,label_to_true(rna_tot_sig,kmeans_cluster))"
   ]
  },
  {
   "cell_type": "code",
   "execution_count": 77,
   "metadata": {},
   "outputs": [
    {
     "data": {
      "text/plain": [
       "0.0"
      ]
     },
     "execution_count": 77,
     "metadata": {},
     "output_type": "execute_result"
    }
   ],
   "source": [
    "clustering_accuracy(true_cluster,label_to_true(true_cluster,gmm_cluster))"
   ]
  },
  {
   "cell_type": "code",
   "execution_count": 78,
   "metadata": {},
   "outputs": [
    {
     "data": {
      "text/plain": [
       "0.0"
      ]
     },
     "execution_count": 78,
     "metadata": {},
     "output_type": "execute_result"
    }
   ],
   "source": [
    "clustering_accuracy(true_cluster, label_to_true(true_cluster, kmeans_cluster))"
   ]
  },
  {
   "cell_type": "code",
   "execution_count": 79,
   "metadata": {},
   "outputs": [
    {
     "ename": "NameError",
     "evalue": "name 'hac_ward_cluster' is not defined",
     "output_type": "error",
     "traceback": [
      "\u001b[0;31m---------------------------------------------------------------------------\u001b[0m",
      "\u001b[0;31mNameError\u001b[0m                                 Traceback (most recent call last)",
      "\u001b[0;32m<ipython-input-79-bd548f5ca892>\u001b[0m in \u001b[0;36m<module>\u001b[0;34m()\u001b[0m\n\u001b[0;32m----> 1\u001b[0;31m \u001b[0mclustering_accuracy\u001b[0m\u001b[0;34m(\u001b[0m\u001b[0mtrue_cluster\u001b[0m\u001b[0;34m,\u001b[0m \u001b[0mlabel_to_true\u001b[0m\u001b[0;34m(\u001b[0m\u001b[0mtrue_cluster\u001b[0m\u001b[0;34m,\u001b[0m\u001b[0mhac_ward_cluster\u001b[0m\u001b[0;34m)\u001b[0m\u001b[0;34m)\u001b[0m\u001b[0;34m\u001b[0m\u001b[0m\n\u001b[0m",
      "\u001b[0;31mNameError\u001b[0m: name 'hac_ward_cluster' is not defined"
     ]
    }
   ],
   "source": [
    "clustering_accuracy(true_cluster, label_to_true(true_cluster,hac_ward_cluster))"
   ]
  },
  {
   "cell_type": "code",
   "execution_count": null,
   "metadata": {},
   "outputs": [],
   "source": [
    "clustering_accuracy(true_cluster, label_to_true(true_cluster,hac_complete_cluster))"
   ]
  },
  {
   "cell_type": "code",
   "execution_count": null,
   "metadata": {},
   "outputs": [],
   "source": [
    "clustering_accuracy(true_cluster, label_to_true(true_cluster,hac_avg_cluster))"
   ]
  },
  {
   "cell_type": "code",
   "execution_count": 82,
   "metadata": {
    "collapsed": true
   },
   "outputs": [],
   "source": [
    "a = np.empty((datasize,18))"
   ]
  },
  {
   "cell_type": "code",
   "execution_count": 151,
   "metadata": {
    "collapsed": true
   },
   "outputs": [],
   "source": [
    "def indicator_matrix(cluster):\n",
    "\n",
    "    cluster_sizes = [len(i[1]) for i in cluster]\n",
    "    confusion_mat = np.empty((datasize,1))\n",
    "    index = 0\n",
    "    for k in range(0, len(cluster_sizes)):\n",
    "        #print(cluster_sizes[k])\n",
    "        cluster_k = np.zeros((datasize,1))\n",
    "        #cluster_k[:index+cluster_sizes[k]] = 1/cluster_sizes[k]\n",
    "        cluster_k[index:index+cluster_sizes[k]] = 1\n",
    "        index += cluster_sizes[k]\n",
    "        #print(cluster_k)\n",
    "        confusion_mat = np.concatenate((confusion_mat,cluster_k),axis = 1)\n",
    "\n",
    "    confusion_mat = confusion_mat[:,1:]\n",
    "    \n",
    "    return confusion_mat\n"
   ]
  },
  {
   "cell_type": "code",
   "execution_count": null,
   "metadata": {},
   "outputs": [],
   "source": [
    "true_indicator = indicator_matrix(true_cluster)\n",
    "gmm_indicator = indicator_matrix(label_to_true(true_cluster,gmm_cluster))\n",
    "confusion_gmm = np.dot(true_indicator.T, gmm_indicator)\n",
    "confusion_gmm"
   ]
  },
  {
   "cell_type": "code",
   "execution_count": 54,
   "metadata": {},
   "outputs": [
    {
     "name": "stdout",
     "output_type": "stream",
     "text": [
      "({0: 0, 1: 1, 2: 2, 3: 3}, {3: 3, 2: 2, 1: 1, 0: 0}, 30)\n"
     ]
    }
   ],
   "source": [
    "\"\"\" Global variables:\n",
    "       n = number of vertices on each side\n",
    "       U,V vertex sets\n",
    "       lu,lv are the labels of U and V resp.\n",
    "       the matching is encoded as \n",
    "       - a mapping Mu from U to V, \n",
    "       - and Mv from V to U.\n",
    "    \n",
    "    The algorithm repeatedly builds an alternating tree, rooted in a\n",
    "    free vertex u0. S is the set of vertices in U covered by the tree.\n",
    "    For every vertex v, T[v] is the parent in the tree and Mv[v] the\n",
    "    child.\n",
    "    The algorithm maintains minSlack, s.t. for every vertex v not in\n",
    "    T, minSlack[v]=(val,u1), where val is the minimum slack\n",
    "    lu[u]+lv[v]-w[u][v] over u in S, and u1 is the vertex that\n",
    "    realizes this minimum.\n",
    "    Complexity is O(n^3), because there are n iterations in\n",
    "    maxWeightMatching, and each call to augment costs O(n^2). This is\n",
    "    because augment() makes at most n iterations itself, and each\n",
    "    updating of minSlack costs O(n).\n",
    "    \"\"\"\n",
    "\n",
    "def improveLabels(val):\n",
    "    \"\"\" change the labels, and maintain minSlack. \n",
    "    \"\"\"\n",
    "    for u in S:\n",
    "        lu[u] -= val\n",
    "    for v in V:\n",
    "        if v in T:\n",
    "            lv[v] += val\n",
    "        else:\n",
    "            minSlack[v][0] -= val\n",
    "\n",
    "def improveMatching(v):\n",
    "    \"\"\" apply the alternating path from v to the root in the tree. \n",
    "    \"\"\"\n",
    "    u = T[v]\n",
    "    if u in Mu:\n",
    "        improveMatching(Mu[u])\n",
    "    Mu[u] = v\n",
    "    Mv[v] = u\n",
    "\n",
    "def slack(u,v): return lu[u]+lv[v]-w[u][v]\n",
    "\n",
    "def augment():\n",
    "    \"\"\" augment the matching, possibly improving the lablels on the way.\n",
    "    \"\"\"\n",
    "    while True:\n",
    "        # select edge (u,v) with u in S, v not in T and min slack\n",
    "        ((val, u), v) = min([(minSlack[v], v) for v in V if v not in T])\n",
    "        assert u in S\n",
    "        if val>0:        \n",
    "            improveLabels(val)\n",
    "        # now we are sure that (u,v) is saturated\n",
    "        assert slack(u,v)==0\n",
    "        T[v] = u                            # add (u,v) to the tree\n",
    "        if v in Mv:\n",
    "            u1 = Mv[v]                      # matched edge, \n",
    "            assert not u1 in S\n",
    "            S[u1] = True                    # ... add endpoint to tree \n",
    "            for v in V:                     # maintain minSlack\n",
    "                if not v in T and minSlack[v][0] > slack(u1,v):\n",
    "                    minSlack[v] = [slack(u1,v), u1]\n",
    "        else:\n",
    "            improveMatching(v)              # v is a free vertex\n",
    "            return\n",
    "\n",
    "def maxWeightMatching(weights):\n",
    "    \"\"\" given w, the weight matrix of a complete bipartite graph,\n",
    "        returns the mappings Mu : U->V ,Mv : V->U encoding the matching\n",
    "        as well as the value of it.\n",
    "    \"\"\"\n",
    "    global U,V,S,T,Mu,Mv,lu,lv, minSlack, w\n",
    "    w  = weights\n",
    "    n  = len(w)\n",
    "    U  = V = range(n)\n",
    "    lu = [ max([w[u][v] for v in V]) for u in U]  # start with trivial labels\n",
    "    lv = [ 0                         for v in V]\n",
    "    Mu = {}                                       # start with empty matching\n",
    "    Mv = {}\n",
    "    while len(Mu)<n:\n",
    "        free = [u for u in V if u not in Mu]      # choose free vertex u0\n",
    "        u0 = free[0]\n",
    "        S = {u0: True}                            # grow tree from u0 on\n",
    "        T = {}\n",
    "        minSlack = [[slack(u0,v), u0] for v in V]\n",
    "        augment()\n",
    "    #                                    val. of matching is total edge weight\n",
    "    val = sum(lu)+sum(lv)\n",
    "    return (Mu, Mv, val)\n",
    "\n",
    "\n",
    "  \n",
    "#  a small example \n",
    "\n",
    "print(maxWeightMatching([[1,2,3,4],[2,4,6,8],[3,6,9,12],[4,8,12,16]]))\n",
    "\n",
    "# read from standard input a line with n\n",
    "# then n*n lines with u,v,w[u][v]\n",
    "\n",
    "# n = int(raw_input())\n",
    "# w = [[0 for v in range(n)] for u in range(n)]\n",
    "# for _ in range(n*n):\n",
    "#     u,v,w[u][v] = map(int, raw_input().split())\n",
    "\n",
    "# print(maxWeightMatching(w))"
   ]
  },
  {
   "cell_type": "code",
   "execution_count": 99,
   "metadata": {},
   "outputs": [
    {
     "data": {
      "text/plain": [
       "[0,\n",
       " ['NM_175137',\n",
       "  'NM_009941',\n",
       "  'NM_173180',\n",
       "  'NM_172582',\n",
       "  'NM_026452',\n",
       "  'NM_025909',\n",
       "  'NM_029272',\n",
       "  'NM_007505',\n",
       "  'NM_001252555',\n",
       "  'NM_030087',\n",
       "  'NM_025597',\n",
       "  'NM_009775',\n",
       "  'NM_175438',\n",
       "  'NM_008993',\n",
       "  'NM_181040',\n",
       "  'NM_019826',\n",
       "  'NM_175094',\n",
       "  'NM_001285783',\n",
       "  'NM_001033136',\n",
       "  'NM_016772',\n",
       "  'NM_011694',\n",
       "  'NM_019694',\n",
       "  'NM_026688',\n",
       "  'NM_008133',\n",
       "  'NM_178848',\n",
       "  'NM_153150',\n",
       "  'NM_001033305',\n",
       "  'NM_021534',\n",
       "  'NM_024197',\n",
       "  'NM_024478',\n",
       "  'NM_145999',\n",
       "  'NM_080633',\n",
       "  'NM_177041',\n",
       "  'NM_030717',\n",
       "  'NM_153176',\n",
       "  'NM_025927',\n",
       "  'NM_030225',\n",
       "  'NM_025351',\n",
       "  'NM_001017429',\n",
       "  'NM_008618',\n",
       "  'NM_025862',\n",
       "  'NM_025641',\n",
       "  'NM_017366',\n",
       "  'NM_172687',\n",
       "  'NM_008837',\n",
       "  'NM_025313',\n",
       "  'NM_172644',\n",
       "  'NM_019875',\n",
       "  'NM_145614',\n",
       "  'NM_013885',\n",
       "  'NM_133666',\n",
       "  'NM_138670',\n",
       "  'NM_008212',\n",
       "  'NM_145494',\n",
       "  'NM_025827',\n",
       "  'NM_025352',\n",
       "  'NM_025358',\n",
       "  'NM_133783',\n",
       "  'NM_025689',\n",
       "  'NM_024220',\n",
       "  'NM_012029',\n",
       "  'NM_026172',\n",
       "  'NM_001037999',\n",
       "  'NM_024179',\n",
       "  'NM_173866',\n",
       "  'NM_025316',\n",
       "  'NM_007383',\n",
       "  'NM_007382',\n",
       "  'NM_181315',\n",
       "  'NM_178653',\n",
       "  'NM_023732',\n",
       "  'NM_026658',\n",
       "  'NM_009388',\n",
       "  'NM_008292',\n",
       "  'NM_001317242',\n",
       "  'NM_025710',\n",
       "  'NM_153501',\n",
       "  'NM_023172',\n",
       "  'NM_144932',\n",
       "  'NM_009191',\n",
       "  'NM_024284',\n",
       "  'NM_001243052',\n",
       "  'NM_145567',\n",
       "  'NM_026614',\n",
       "  'NM_010023',\n",
       "  'NM_026444',\n",
       "  'NM_172678',\n",
       "  'NM_133684',\n",
       "  'NM_134021',\n",
       "  'NM_011868',\n",
       "  'NM_001285920',\n",
       "  'NM_001081054',\n",
       "  'NM_001252395',\n",
       "  'NM_146230',\n",
       "  'NM_134007',\n",
       "  'NM_025797',\n",
       "  'NM_025798',\n",
       "  'NM_007988',\n",
       "  'NM_027945',\n",
       "  'NM_026542',\n",
       "  'NM_019879',\n",
       "  'NM_025407',\n",
       "  'NM_178614',\n",
       "  'NM_026695',\n",
       "  'NM_009942',\n",
       "  'NM_178051',\n",
       "  'NM_001305982',\n",
       "  'NM_030026',\n",
       "  'NM_138601',\n",
       "  'NM_016774',\n",
       "  'NM_026504',\n",
       "  'NM_011921',\n",
       "  'NM_016709',\n",
       "  'NM_028626',\n",
       "  'NM_007750',\n",
       "  'NM_025650',\n",
       "  'NM_144801',\n",
       "  'NM_130864',\n",
       "  'NM_019552',\n",
       "  'NM_177470',\n",
       "  'NM_001253868',\n",
       "  'NM_172291',\n",
       "  'NM_027862',\n",
       "  'NM_025628',\n",
       "  'NM_153152',\n",
       "  'NM_080289',\n",
       "  'NM_007748',\n",
       "  'NM_010911',\n",
       "  'NM_009739',\n",
       "  'NM_198931',\n",
       "  'NM_025558',\n",
       "  'NM_001039194',\n",
       "  'NM_001301728',\n",
       "  'NM_009437',\n",
       "  'NM_007760',\n",
       "  'NM_175178',\n",
       "  'NM_153064',\n",
       "  'NM_027175',\n",
       "  'NM_023247',\n",
       "  'NM_025321',\n",
       "  'NM_008097',\n",
       "  'NM_145573',\n",
       "  'NM_019966',\n",
       "  'NM_020566',\n",
       "  'NM_024257',\n",
       "  'NM_013770',\n",
       "  'NM_007931',\n",
       "  'NM_001101598',\n",
       "  'NM_013543',\n",
       "  'NM_026411',\n",
       "  'NM_053119',\n",
       "  'NM_028431',\n",
       "  'NM_001291835',\n",
       "  'NM_020520',\n",
       "  'NM_028063',\n",
       "  'NM_020582',\n",
       "  'NM_023374']]"
      ]
     },
     "execution_count": 99,
     "metadata": {},
     "output_type": "execute_result"
    }
   ],
   "source": [
    "rna_tot_sig[0]"
   ]
  },
  {
   "cell_type": "code",
   "execution_count": 115,
   "metadata": {},
   "outputs": [],
   "source": [
    "def generate_clusters(time_series_df, cluster_model,cluster_type):\n",
    "\n",
    "    if cluster_type[:3] == 'HAC':\n",
    "        cluster_labels = cluster_model.fit(time_series_df.values).labels_\n",
    "    else:\n",
    "        cluster_labels = cluster_model.fit(time_series_df.values).predict(time_series_df.values)\n",
    "\n",
    "    s = pd.Series(cluster_labels)\n",
    "    clusters = s.unique()\n",
    "    clusters_id = []\n",
    "\n",
    "    for i in range(0, len(clusters)):\n",
    "        cluster_indices = s[s==clusters[i]].index\n",
    "        gene_cluster = time_series_df.T.iloc[:,cluster_indices].transpose().index\n",
    "        # gene_file = open('/Users/indrikwijaya/Desktop/stem_compare/'+cluster_type+'/cluster_'+str(i)+'.txt', 'w')\n",
    "        # gene_file.write(\"\\n\".join(list(gene_cluster.values)))\n",
    "        clusters_id.append([i, list(gene_cluster)])\n",
    "\n",
    "        # time_series_df.T.iloc[:, cluster_indices].plot(legend = False,figsize = (20,10))\n",
    "        # plt.title('%d genes' % len(gene_cluster), fontsize = 45)\n",
    "        # plt.xticks(fontsize = 35)\n",
    "        # plt.yticks(fontsize = 35)\n",
    "        # plt.savefig(\"%s_Cluster_%d_%d\" % (cluster_type,clusters[i], len(gene_cluster)))\n",
    "\n",
    "    return clusters_id"
   ]
  },
  {
   "cell_type": "code",
   "execution_count": 116,
   "metadata": {},
   "outputs": [],
   "source": [
    "time_series_df = pd.read_csv('/Users/indrikwijaya/Desktop/rna_logrpkm/rna_tot_mito_diff0.txt',sep ='\\t')\n",
    "df_kmeans = KMeans(n_clusters=len(rna_tot_sig),random_state =1)\n",
    "test = generate_clusters(time_series_df, df_kmeans, 'KMeans') "
   ]
  },
  {
   "cell_type": "code",
   "execution_count": 118,
   "metadata": {},
   "outputs": [
    {
     "data": {
      "text/plain": [
       "{0: {0: 42, 1: 0, 2: 4, 3: 66, 4: 25, 5: 12, 6: 1, 7: 7, 8: 0, 9: 0},\n",
       " 1: {0: 0, 1: 0, 2: 0, 3: 41, 4: 67, 5: 21, 6: 11, 7: 15, 8: 0, 9: 0},\n",
       " 2: {0: 49, 1: 0, 2: 12, 3: 10, 4: 0, 5: 0, 6: 0, 7: 0, 8: 0, 9: 0},\n",
       " 3: {0: 36, 1: 0, 2: 6, 3: 2, 4: 0, 5: 0, 6: 0, 7: 0, 8: 0, 9: 0},\n",
       " 4: {0: 0, 1: 20, 2: 5, 3: 0, 4: 0, 5: 0, 6: 0, 7: 0, 8: 32, 9: 4},\n",
       " 5: {0: 2, 1: 12, 2: 43, 3: 0, 4: 0, 5: 0, 6: 0, 7: 0, 8: 0, 9: 0},\n",
       " 6: {0: 3, 1: 0, 2: 0, 3: 20, 4: 11, 5: 7, 6: 1, 7: 0, 8: 0, 9: 0},\n",
       " 7: {0: 2, 1: 4, 2: 23, 3: 0, 4: 0, 5: 0, 6: 0, 7: 0, 8: 1, 9: 0},\n",
       " 8: {0: 12, 1: 0, 2: 8, 3: 0, 4: 0, 5: 0, 6: 0, 7: 0, 8: 0, 9: 0},\n",
       " 9: {0: 0, 1: 14, 2: 0, 3: 0, 4: 0, 5: 0, 6: 0, 7: 0, 8: 5, 9: 0}}"
      ]
     },
     "execution_count": 118,
     "metadata": {},
     "output_type": "execute_result"
    }
   ],
   "source": [
    "weights = {}\n",
    "for j in rna_tot_mito_sig:\n",
    "    j_weight = {}\n",
    "    for i in test:\n",
    "        j_weight[i[0]] = len(intersect(j[1],i[1]))\n",
    "    weights[j[0]]=j_weight\n",
    "weights        "
   ]
  },
  {
   "cell_type": "code",
   "execution_count": 119,
   "metadata": {},
   "outputs": [],
   "source": [
    "w=[]\n",
    "for i in weights:\n",
    "    w_i=weights[i]\n",
    "    weight=[]\n",
    "    for j in w_i:\n",
    "        weight.append(w_i[j])\n",
    "    w.append(weight)"
   ]
  },
  {
   "cell_type": "code",
   "execution_count": 120,
   "metadata": {
    "scrolled": true
   },
   "outputs": [
    {
     "data": {
      "text/plain": [
       "({0: 3, 1: 4, 2: 0, 3: 6, 4: 8, 5: 2, 6: 5, 7: 9, 8: 7, 9: 1},\n",
       " {0: 2, 1: 9, 2: 5, 3: 0, 4: 1, 5: 6, 6: 3, 7: 8, 8: 4, 9: 7},\n",
       " 278)"
      ]
     },
     "execution_count": 120,
     "metadata": {},
     "output_type": "execute_result"
    }
   ],
   "source": [
    "maxWeightMatching(w)"
   ]
  },
  {
   "cell_type": "code",
   "execution_count": 87,
   "metadata": {},
   "outputs": [
    {
     "data": {
      "text/plain": [
       "int"
      ]
     },
     "execution_count": 87,
     "metadata": {},
     "output_type": "execute_result"
    }
   ],
   "source": [
    "type(maxWeightMatching(w)[2])"
   ]
  },
  {
   "cell_type": "code",
   "execution_count": null,
   "metadata": {
    "collapsed": true
   },
   "outputs": [],
   "source": []
  }
 ],
 "metadata": {
  "kernelspec": {
   "display_name": "Python 3",
   "language": "python",
   "name": "python3"
  },
  "language_info": {
   "codemirror_mode": {
    "name": "ipython",
    "version": 3
   },
   "file_extension": ".py",
   "mimetype": "text/x-python",
   "name": "python",
   "nbconvert_exporter": "python",
   "pygments_lexer": "ipython3",
   "version": "3.6.3"
  }
 },
 "nbformat": 4,
 "nbformat_minor": 2
}
